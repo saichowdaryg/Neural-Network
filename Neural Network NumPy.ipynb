{
 "cells": [
  {
   "cell_type": "markdown",
   "metadata": {},
   "source": [
    "### Importing the necessary libraries"
   ]
  },
  {
   "cell_type": "code",
   "execution_count": 1,
   "metadata": {
    "collapsed": true
   },
   "outputs": [],
   "source": [
    "import sys #this is used only for printing accuracy\n",
    "import csv #this is used only for reading the data \n",
    "import numpy as np"
   ]
  },
  {
   "cell_type": "markdown",
   "metadata": {},
   "source": [
    "### Reading the Data"
   ]
  },
  {
   "cell_type": "code",
   "execution_count": 2,
   "metadata": {
    "collapsed": true
   },
   "outputs": [],
   "source": [
    "import numpy as np\n",
    "f = open('mnist_train.csv', 'r')\n",
    "reader = csv.reader(f)\n",
    "train=np.array([np.array(row) for row in reader])\n",
    "f.close()\n",
    "f = open('mnist_test.csv', 'r')\n",
    "reader = csv.reader(f)\n",
    "test=np.array([np.array(row) for row in reader])\n",
    "f.close()"
   ]
  },
  {
   "cell_type": "code",
   "execution_count": 3,
   "metadata": {
    "collapsed": true
   },
   "outputs": [],
   "source": [
    "str2int = lambda t: int(t)\n",
    "str2int = np.vectorize(str2int)"
   ]
  },
  {
   "cell_type": "code",
   "execution_count": 4,
   "metadata": {
    "collapsed": true
   },
   "outputs": [],
   "source": [
    "train_label=str2int(train[:,0])\n",
    "test_label=str2int(test[:,0])\n",
    "train_x=str2int(train[:,1:])\n",
    "test_x=str2int(test[:,1:])"
   ]
  },
  {
   "cell_type": "code",
   "execution_count": 5,
   "metadata": {},
   "outputs": [
    {
     "data": {
      "text/plain": [
       "(784, 60000)"
      ]
     },
     "execution_count": 5,
     "metadata": {},
     "output_type": "execute_result"
    }
   ],
   "source": [
    "inp=train_x.transpose()\n",
    "inp.shape"
   ]
  },
  {
   "cell_type": "code",
   "execution_count": 6,
   "metadata": {},
   "outputs": [
    {
     "data": {
      "text/plain": [
       "(784, 10000)"
      ]
     },
     "execution_count": 6,
     "metadata": {},
     "output_type": "execute_result"
    }
   ],
   "source": [
    "test_inp=test_x.transpose()\n",
    "test_inp.shape"
   ]
  },
  {
   "cell_type": "code",
   "execution_count": 7,
   "metadata": {
    "collapsed": true
   },
   "outputs": [],
   "source": [
    "target=np.zeros((10,inp.shape[1]))\n",
    "\n",
    "for i in range(inp.shape[1]):\n",
    "    target[train_label[i]][i]=1"
   ]
  },
  {
   "cell_type": "code",
   "execution_count": null,
   "metadata": {
    "collapsed": true
   },
   "outputs": [],
   "source": [
    "#normalize inputs\n",
    "#did not do it here as MNIST is a simple DataSet"
   ]
  },
  {
   "cell_type": "code",
   "execution_count": 8,
   "metadata": {
    "collapsed": true
   },
   "outputs": [],
   "source": [
    "np.random.seed(10)"
   ]
  },
  {
   "cell_type": "markdown",
   "metadata": {},
   "source": [
    "### The Model"
   ]
  },
  {
   "cell_type": "code",
   "execution_count": 5,
   "metadata": {
    "collapsed": true
   },
   "outputs": [],
   "source": [
    "class model:\n",
    "    \"\"\"\n",
    "    This is the class which must be instantiated to create a neural network model\n",
    "    \"\"\"\n",
    "    def __init__(self,input_dim):\n",
    "        \"\"\"\n",
    "        The constructor needs the input dimension of the neural network when created\n",
    "        \n",
    "        input_dim:the dimension of the input\n",
    "        \"\"\"\n",
    "        self.input_dim=input_dim#dimension of input\n",
    "        self.weights={0:np.zeros((input_dim,input_dim))}#dictionary for weights for each layer\n",
    "        self.bias={0:np.zeros((input_dim,1))}#dictionary for bias for each layer\n",
    "        self.layers=0#variable to keep track of the number of layers\n",
    "        self.activations=[None] #list to keep track of the activation of each layer\n",
    "        \n",
    "    def add(self,nodes=10,activation='ReLu'):#adds a new layer to the network\n",
    "        \"\"\"\n",
    "        This function adds a new layer to the neural network, you can specify the number of nodes(default 10) and\n",
    "        the type of activation i.e ReLu or SoftMax(only for final layer), default is ReLu\n",
    "        nodes: the number of nodes to be added in the new layer\n",
    "        activation: the activation of the new layer\n",
    "        \"\"\"\n",
    "        self.layers+=1#incrementing the layer count\n",
    "        self.weights[self.layers]=np.random.normal(0,1.0/np.sqrt(784),size=(nodes,self.weights[self.layers-1].shape[0]))#initializing weights randomly from normal distribution\n",
    "        self.bias[self.layers]=np.zeros((nodes,1)) #initializing bias as zero\n",
    "        self.activations.append(activation)#storing the new activation\n",
    "        return\n",
    "    \n",
    "    def apply_activation(self,x,activation):\n",
    "        \"\"\"\n",
    "        applies the given activation(2nd argument) function to the given input(1st argument)\n",
    "        x: ususally the w.x+b\n",
    "        activation: the activation to be applied\n",
    "        \n",
    "        returns:the output after applying the activation function \n",
    "        \"\"\"\n",
    "        if activation=='ReLu':#reLu activation\n",
    "            x[x<0]=0\n",
    "            return x\n",
    "        if activation=='Sigmoid':#sigmoid activation\n",
    "            return 1/(1+np.exp(-x))\n",
    "        if activation=='SoftMax':# SoftMax activation\n",
    "            x-=np.max(x,axis=0)[np.newaxis,:]\n",
    "            #y=np.apply_along_axis(lambda x: np.exp(x)/np.sum(np.exp(x)),0,x)#bp()#return y\n",
    "            return np.exp(x)/np.sum(np.exp(x),axis=0,keepdims=True)\n",
    "    \n",
    "    def forwardprop(self,inputs):\n",
    "        \"\"\"\n",
    "        This functions gives the output of the forward pass of the network in current state(i.e using the latest weights an biases) given an input\n",
    "        inputs: The inputs in the format [input_dimension x Number of samples]\n",
    "        \n",
    "        returns: The output of the last layer\n",
    "        \"\"\"\n",
    "        output=[0]*len(self.weights.keys())\n",
    "        output[0]=inputs\n",
    "        for i in range(1,len(self.weights.keys())):\n",
    "            output[i]=self.apply_activation(np.dot(self.weights[i],output[i-1])+self.bias[i],self.activations[i])\n",
    "        return output[-1]\n",
    "    \n",
    "    def performance(self,predictions,targets,test_inputs,test_labels):\n",
    "        \"\"\"\n",
    "        This function calculates and prints the accuracy\n",
    "        predictions:predicted vectors\n",
    "        targets: target vectors(one hot encoded)\n",
    "        test_inputs:test_inputs for test case\n",
    "        test_labels:the labels(not 1 hot encodings) corresponding to the test_inputs\n",
    "        \"\"\"\n",
    "        train_accuracy=100*(np.sum(np.argmax(predictions,axis=0)==np.argmax(targets,axis=0))/targets.shape[1])\n",
    "        test_accuracy=100*(np.sum(np.argmax(self.forwardprop(test_inputs),axis=0)==test_labels)/test_inputs.shape[1])\n",
    "        sys.stdout.write(\"training progress: %d/%d training accuracy: %0.2f testing accuracy: %0.2f \\r\" % (1,1,train_accuracy,test_accuracy))\n",
    "        sys.stdout.flush()\n",
    "        return #train_accuracy,test_accuracy\n",
    "    \n",
    "    def train(self,inputs,targets,test_inputs,test_labels,iters=20,learning_rate=0.00005):\n",
    "        \"\"\"\n",
    "        This is the core function\n",
    "        inputs:The inputs in the format [input_dimension x Number of samples]\n",
    "        targets: The correspondin one hot encodings in the format [number of categories x Number of samples]\n",
    "        test_inputs:test_inputs for test case\n",
    "        test_labels:the labels(not 1 hot encodings) corresponding to the test_inputs\n",
    "        iters: number of iterations , default-20\n",
    "        learning_rate:step size, default-0.00005\n",
    "        \"\"\"\n",
    "        for iteration in range(iters):\n",
    "            step_size=learning_rate/(targets.shape[1])   #dividing the learning rate by batch size      \n",
    "            deltas=[0]*len(self.weights.keys())     #list to store the deltas in the backward pass\n",
    "            output=[0]*len(self.weights.keys())  #list to store the output(activations) of each layer\n",
    "            output[0]=inputs\n",
    "            weighted_outputs=[0]*len(self.weights.keys())#list to store the weighted outputs(before applying the activation function)\n",
    "            #forward prop\n",
    "            for i in range(1,len(self.weights.keys())):\n",
    "                weighted_outputs[i]=np.dot(self.weights[i],output[i-1])+self.bias[i]\n",
    "                output[i]=self.apply_activation(weighted_outputs[i],self.activations[i])\n",
    "            #backprop\n",
    "            #deltas, weight, bias update\n",
    "            for i in range(len(self.weights.keys())-1,0,-1):\n",
    "                relu_grad = lambda t: 1 if t>0 else 0\n",
    "                vec_relu_grad = np.vectorize(relu_grad)\n",
    "                if self.activations[i]=='SoftMax' and i==len(self.weights.keys())-1:\n",
    "                    deltas[i]=output[i]-targets\n",
    "                    self.weights[i]=self.weights[i]-step_size*(np.dot(deltas[i],output[i-1].transpose()))\n",
    "                    #bp()\n",
    "                    self.bias[i]=self.bias[i]-step_size*(np.sum(deltas[i],axis=1).reshape((-1,1)))\n",
    "                elif self.activations[i]=='ReLu':\n",
    "                    deltas[i]=np.multiply(np.dot(self.weights[i+1].transpose(),deltas[i+1]),vec_relu_grad(weighted_outputs[i])) \n",
    "                    self.weights[i]=self.weights[i]-step_size*(np.dot(deltas[i],output[i-1].transpose()))\n",
    "                    #bp()\n",
    "                    self.bias[i]=self.bias[i]-step_size*(np.sum(deltas[i],axis=1).reshape((-1,1)))\n",
    "                else:\n",
    "                    print('here')\n",
    "            #accuracy,test_accuracy=self.performance(output[-1],targets,test_inputs,test_labels)\n",
    "            "
   ]
  },
  {
   "cell_type": "code",
   "execution_count": 40,
   "metadata": {
    "collapsed": true
   },
   "outputs": [],
   "source": [
    "nn=model(input_dim=784)#sample network"
   ]
  },
  {
   "cell_type": "code",
   "execution_count": 41,
   "metadata": {
    "collapsed": true
   },
   "outputs": [],
   "source": [
    "nn.add(200,'ReLu') #first hidden layer with 200 nodes\n",
    "nn.add(180,'ReLu') #second hidden layer with 180  nodes"
   ]
  },
  {
   "cell_type": "code",
   "execution_count": 42,
   "metadata": {
    "collapsed": true
   },
   "outputs": [],
   "source": [
    "nn.add(10,'SoftMax')#output Softmax layer"
   ]
  },
  {
   "cell_type": "code",
   "execution_count": 43,
   "metadata": {},
   "outputs": [
    {
     "name": "stdout",
     "output_type": "stream",
     "text": [
      "epoch  0\n",
      "epoch  1 progress: 1/1 training accuracy: 10.84 testing accuracy: 10.81 \n",
      "epoch  2 progress: 1/1 training accuracy: 79.05 testing accuracy: 79.80 \n",
      "epoch  3 progress: 1/1 training accuracy: 83.95 testing accuracy: 84.41 \n",
      "epoch  4 progress: 1/1 training accuracy: 86.37 testing accuracy: 86.49 \n",
      "epoch  5 progress: 1/1 training accuracy: 87.80 testing accuracy: 87.67 \n",
      "epoch  6 progress: 1/1 training accuracy: 88.78 testing accuracy: 88.53 \n",
      "epoch  7 progress: 1/1 training accuracy: 89.54 testing accuracy: 89.38 \n",
      "epoch  8 progress: 1/1 training accuracy: 90.17 testing accuracy: 89.89 \n",
      "epoch  9 progress: 1/1 training accuracy: 90.71 testing accuracy: 90.42 \n",
      "epoch  10progress: 1/1 training accuracy: 91.14 testing accuracy: 90.84 \n",
      "epoch  11progress: 1/1 training accuracy: 91.55 testing accuracy: 91.14 \n",
      "epoch  12progress: 1/1 training accuracy: 91.89 testing accuracy: 91.36 \n",
      "epoch  13progress: 1/1 training accuracy: 92.22 testing accuracy: 91.61 \n",
      "epoch  14progress: 1/1 training accuracy: 92.54 testing accuracy: 91.80 \n",
      "epoch  15progress: 1/1 training accuracy: 92.76 testing accuracy: 91.92 \n",
      "epoch  16progress: 1/1 training accuracy: 92.98 testing accuracy: 92.03 \n",
      "epoch  17progress: 1/1 training accuracy: 93.18 testing accuracy: 92.19 \n",
      "epoch  18progress: 1/1 training accuracy: 93.38 testing accuracy: 92.41 \n",
      "epoch  19progress: 1/1 training accuracy: 93.62 testing accuracy: 92.55 \n",
      "epoch  20progress: 1/1 training accuracy: 93.78 testing accuracy: 92.68 \n",
      "epoch  21progress: 1/1 training accuracy: 93.95 testing accuracy: 92.81 \n",
      "epoch  22progress: 1/1 training accuracy: 94.13 testing accuracy: 92.98 \n",
      "epoch  23progress: 1/1 training accuracy: 94.26 testing accuracy: 93.06 \n",
      "epoch  24progress: 1/1 training accuracy: 94.38 testing accuracy: 93.23 \n",
      "epoch  25progress: 1/1 training accuracy: 94.51 testing accuracy: 93.33 \n",
      "epoch  26progress: 1/1 training accuracy: 94.62 testing accuracy: 93.46 \n",
      "epoch  27progress: 1/1 training accuracy: 94.72 testing accuracy: 93.51 \n",
      "epoch  28progress: 1/1 training accuracy: 94.81 testing accuracy: 93.63 \n",
      "epoch  29progress: 1/1 training accuracy: 94.94 testing accuracy: 93.71 \n",
      "epoch  30progress: 1/1 training accuracy: 95.04 testing accuracy: 93.77 \n",
      "epoch  31progress: 1/1 training accuracy: 95.12 testing accuracy: 93.85 \n",
      "epoch  32progress: 1/1 training accuracy: 95.22 testing accuracy: 93.88 \n",
      "epoch  33progress: 1/1 training accuracy: 95.31 testing accuracy: 93.94 \n",
      "epoch  34progress: 1/1 training accuracy: 95.40 testing accuracy: 94.04 \n",
      "epoch  35progress: 1/1 training accuracy: 95.46 testing accuracy: 94.06 \n",
      "epoch  36progress: 1/1 training accuracy: 95.52 testing accuracy: 94.10 \n",
      "epoch  37progress: 1/1 training accuracy: 95.59 testing accuracy: 94.17 \n",
      "epoch  38progress: 1/1 training accuracy: 95.66 testing accuracy: 94.22 \n",
      "epoch  39progress: 1/1 training accuracy: 95.75 testing accuracy: 94.28 \n",
      "epoch  40progress: 1/1 training accuracy: 95.80 testing accuracy: 94.34 \n",
      "epoch  41progress: 1/1 training accuracy: 95.86 testing accuracy: 94.41 \n",
      "epoch  42progress: 1/1 training accuracy: 95.93 testing accuracy: 94.46 \n",
      "epoch  43progress: 1/1 training accuracy: 95.97 testing accuracy: 94.50 \n",
      "epoch  44progress: 1/1 training accuracy: 96.03 testing accuracy: 94.51 \n",
      "epoch  45progress: 1/1 training accuracy: 96.08 testing accuracy: 94.54 \n",
      "epoch  46progress: 1/1 training accuracy: 96.12 testing accuracy: 94.55 \n",
      "epoch  47progress: 1/1 training accuracy: 96.18 testing accuracy: 94.64 \n",
      "epoch  48progress: 1/1 training accuracy: 96.22 testing accuracy: 94.65 \n",
      "epoch  49progress: 1/1 training accuracy: 96.28 testing accuracy: 94.70 \n",
      "epoch  50progress: 1/1 training accuracy: 96.33 testing accuracy: 94.74 \n",
      "epoch  51progress: 1/1 training accuracy: 96.37 testing accuracy: 94.77 \n",
      "epoch  52progress: 1/1 training accuracy: 96.44 testing accuracy: 94.78 \n",
      "epoch  53progress: 1/1 training accuracy: 96.48 testing accuracy: 94.80 \n",
      "epoch  54progress: 1/1 training accuracy: 96.54 testing accuracy: 94.81 \n",
      "epoch  55progress: 1/1 training accuracy: 96.59 testing accuracy: 94.82 \n",
      "epoch  56progress: 1/1 training accuracy: 96.64 testing accuracy: 94.88 \n",
      "epoch  57progress: 1/1 training accuracy: 96.68 testing accuracy: 94.89 \n",
      "epoch  58progress: 1/1 training accuracy: 96.72 testing accuracy: 94.91 \n",
      "epoch  59progress: 1/1 training accuracy: 96.76 testing accuracy: 94.93 \n",
      "epoch  60progress: 1/1 training accuracy: 96.80 testing accuracy: 94.98 \n",
      "epoch  61progress: 1/1 training accuracy: 96.85 testing accuracy: 94.99 \n",
      "epoch  62progress: 1/1 training accuracy: 96.89 testing accuracy: 95.03 \n",
      "epoch  63progress: 1/1 training accuracy: 96.92 testing accuracy: 95.06 \n",
      "epoch  64progress: 1/1 training accuracy: 96.97 testing accuracy: 95.10 \n",
      "epoch  65progress: 1/1 training accuracy: 97.01 testing accuracy: 95.11 \n",
      "epoch  66progress: 1/1 training accuracy: 97.03 testing accuracy: 95.15 \n",
      "epoch  67progress: 1/1 training accuracy: 97.08 testing accuracy: 95.17 \n",
      "epoch  68progress: 1/1 training accuracy: 97.09 testing accuracy: 95.19 \n",
      "epoch  69progress: 1/1 training accuracy: 97.12 testing accuracy: 95.22 \n",
      "epoch  70progress: 1/1 training accuracy: 97.16 testing accuracy: 95.26 \n",
      "epoch  71progress: 1/1 training accuracy: 97.20 testing accuracy: 95.28 \n",
      "epoch  72progress: 1/1 training accuracy: 97.24 testing accuracy: 95.29 \n",
      "epoch  73progress: 1/1 training accuracy: 97.28 testing accuracy: 95.30 \n",
      "epoch  74progress: 1/1 training accuracy: 97.31 testing accuracy: 95.31 \n",
      "epoch  75progress: 1/1 training accuracy: 97.34 testing accuracy: 95.32 \n",
      "epoch  76progress: 1/1 training accuracy: 97.36 testing accuracy: 95.31 \n",
      "epoch  77progress: 1/1 training accuracy: 97.40 testing accuracy: 95.33 \n",
      "epoch  78progress: 1/1 training accuracy: 97.42 testing accuracy: 95.35 \n",
      "epoch  79progress: 1/1 training accuracy: 97.46 testing accuracy: 95.38 \n",
      "epoch  80progress: 1/1 training accuracy: 97.49 testing accuracy: 95.40 \n",
      "epoch  81progress: 1/1 training accuracy: 97.51 testing accuracy: 95.40 \n",
      "epoch  82progress: 1/1 training accuracy: 97.54 testing accuracy: 95.44 \n",
      "epoch  83progress: 1/1 training accuracy: 97.57 testing accuracy: 95.47 \n",
      "epoch  84progress: 1/1 training accuracy: 97.60 testing accuracy: 95.48 \n",
      "epoch  85progress: 1/1 training accuracy: 97.64 testing accuracy: 95.50 \n",
      "epoch  86progress: 1/1 training accuracy: 97.66 testing accuracy: 95.54 \n",
      "epoch  87progress: 1/1 training accuracy: 97.69 testing accuracy: 95.55 \n",
      "epoch  88progress: 1/1 training accuracy: 97.72 testing accuracy: 95.56 \n",
      "epoch  89progress: 1/1 training accuracy: 97.74 testing accuracy: 95.54 \n",
      "epoch  90progress: 1/1 training accuracy: 97.78 testing accuracy: 95.54 \n",
      "epoch  91progress: 1/1 training accuracy: 97.80 testing accuracy: 95.52 \n",
      "epoch  92progress: 1/1 training accuracy: 97.83 testing accuracy: 95.55 \n",
      "epoch  93progress: 1/1 training accuracy: 97.86 testing accuracy: 95.56 \n",
      "epoch  94progress: 1/1 training accuracy: 97.89 testing accuracy: 95.58 \n",
      "epoch  95progress: 1/1 training accuracy: 97.90 testing accuracy: 95.58 \n",
      "epoch  96progress: 1/1 training accuracy: 97.93 testing accuracy: 95.58 \n",
      "epoch  97progress: 1/1 training accuracy: 97.96 testing accuracy: 95.57 \n",
      "epoch  98progress: 1/1 training accuracy: 97.98 testing accuracy: 95.58 \n",
      "epoch  99progress: 1/1 training accuracy: 98.00 testing accuracy: 95.57 \n",
      "epoch  100rogress: 1/1 training accuracy: 98.01 testing accuracy: 95.59 \n",
      "epoch  101rogress: 1/1 training accuracy: 98.03 testing accuracy: 95.61 \n",
      "epoch  102rogress: 1/1 training accuracy: 98.04 testing accuracy: 95.63 \n",
      "epoch  103rogress: 1/1 training accuracy: 98.06 testing accuracy: 95.64 \n",
      "epoch  104rogress: 1/1 training accuracy: 98.08 testing accuracy: 95.64 \n",
      "epoch  105rogress: 1/1 training accuracy: 98.10 testing accuracy: 95.67 \n",
      "epoch  106rogress: 1/1 training accuracy: 98.13 testing accuracy: 95.69 \n",
      "epoch  107rogress: 1/1 training accuracy: 98.15 testing accuracy: 95.70 \n",
      "epoch  108rogress: 1/1 training accuracy: 98.17 testing accuracy: 95.71 \n",
      "epoch  109rogress: 1/1 training accuracy: 98.19 testing accuracy: 95.72 \n",
      "epoch  110rogress: 1/1 training accuracy: 98.22 testing accuracy: 95.73 \n",
      "epoch  111rogress: 1/1 training accuracy: 98.24 testing accuracy: 95.73 \n",
      "epoch  112rogress: 1/1 training accuracy: 98.26 testing accuracy: 95.74 \n",
      "epoch  113rogress: 1/1 training accuracy: 98.27 testing accuracy: 95.74 \n",
      "epoch  114rogress: 1/1 training accuracy: 98.28 testing accuracy: 95.75 \n",
      "epoch  115rogress: 1/1 training accuracy: 98.31 testing accuracy: 95.75 \n",
      "epoch  116rogress: 1/1 training accuracy: 98.33 testing accuracy: 95.75 \n",
      "epoch  117rogress: 1/1 training accuracy: 98.34 testing accuracy: 95.78 \n",
      "epoch  118rogress: 1/1 training accuracy: 98.37 testing accuracy: 95.81 \n",
      "epoch  119rogress: 1/1 training accuracy: 98.39 testing accuracy: 95.81 \n",
      "epoch  120rogress: 1/1 training accuracy: 98.40 testing accuracy: 95.81 \n",
      "epoch  121rogress: 1/1 training accuracy: 98.42 testing accuracy: 95.80 \n",
      "epoch  122rogress: 1/1 training accuracy: 98.43 testing accuracy: 95.81 \n",
      "epoch  123rogress: 1/1 training accuracy: 98.45 testing accuracy: 95.81 \n",
      "epoch  124rogress: 1/1 training accuracy: 98.46 testing accuracy: 95.81 \n",
      "epoch  125rogress: 1/1 training accuracy: 98.48 testing accuracy: 95.81 \n",
      "epoch  126rogress: 1/1 training accuracy: 98.49 testing accuracy: 95.80 \n",
      "epoch  127rogress: 1/1 training accuracy: 98.50 testing accuracy: 95.81 \n",
      "epoch  128rogress: 1/1 training accuracy: 98.51 testing accuracy: 95.81 \n",
      "epoch  129rogress: 1/1 training accuracy: 98.52 testing accuracy: 95.82 \n",
      "epoch  130rogress: 1/1 training accuracy: 98.53 testing accuracy: 95.81 \n",
      "epoch  131rogress: 1/1 training accuracy: 98.54 testing accuracy: 95.82 \n",
      "epoch  132rogress: 1/1 training accuracy: 98.55 testing accuracy: 95.82 \n",
      "epoch  133rogress: 1/1 training accuracy: 98.56 testing accuracy: 95.82 \n",
      "epoch  134rogress: 1/1 training accuracy: 98.58 testing accuracy: 95.83 \n",
      "epoch  135rogress: 1/1 training accuracy: 98.60 testing accuracy: 95.85 \n",
      "epoch  136rogress: 1/1 training accuracy: 98.61 testing accuracy: 95.87 \n",
      "epoch  137rogress: 1/1 training accuracy: 98.62 testing accuracy: 95.87 \n",
      "epoch  138rogress: 1/1 training accuracy: 98.64 testing accuracy: 95.87 \n",
      "epoch  139rogress: 1/1 training accuracy: 98.65 testing accuracy: 95.90 \n",
      "epoch  140rogress: 1/1 training accuracy: 98.66 testing accuracy: 95.91 \n",
      "epoch  141rogress: 1/1 training accuracy: 98.68 testing accuracy: 95.92 \n",
      "epoch  142rogress: 1/1 training accuracy: 98.68 testing accuracy: 95.91 \n",
      "epoch  143rogress: 1/1 training accuracy: 98.69 testing accuracy: 95.91 \n",
      "epoch  144rogress: 1/1 training accuracy: 98.69 testing accuracy: 95.91 \n",
      "epoch  145rogress: 1/1 training accuracy: 98.70 testing accuracy: 95.93 \n",
      "epoch  146rogress: 1/1 training accuracy: 98.72 testing accuracy: 95.93 \n",
      "epoch  147rogress: 1/1 training accuracy: 98.73 testing accuracy: 95.94 \n",
      "epoch  148rogress: 1/1 training accuracy: 98.74 testing accuracy: 95.96 \n",
      "epoch  149rogress: 1/1 training accuracy: 98.75 testing accuracy: 95.94 \n",
      "epoch  150rogress: 1/1 training accuracy: 98.76 testing accuracy: 95.96 \n",
      "epoch  151rogress: 1/1 training accuracy: 98.76 testing accuracy: 95.97 \n",
      "epoch  152rogress: 1/1 training accuracy: 98.78 testing accuracy: 95.96 \n",
      "epoch  153rogress: 1/1 training accuracy: 98.78 testing accuracy: 95.98 \n",
      "epoch  154rogress: 1/1 training accuracy: 98.79 testing accuracy: 95.99 \n",
      "epoch  155rogress: 1/1 training accuracy: 98.80 testing accuracy: 95.99 \n",
      "epoch  156rogress: 1/1 training accuracy: 98.81 testing accuracy: 95.99 \n",
      "epoch  157rogress: 1/1 training accuracy: 98.82 testing accuracy: 95.99 \n",
      "epoch  158rogress: 1/1 training accuracy: 98.83 testing accuracy: 95.99 \n",
      "epoch  159rogress: 1/1 training accuracy: 98.85 testing accuracy: 95.99 \n",
      "epoch  160rogress: 1/1 training accuracy: 98.86 testing accuracy: 95.99 \n",
      "epoch  161rogress: 1/1 training accuracy: 98.87 testing accuracy: 95.98 \n",
      "epoch  162rogress: 1/1 training accuracy: 98.87 testing accuracy: 95.98 \n",
      "epoch  163rogress: 1/1 training accuracy: 98.89 testing accuracy: 95.99 \n",
      "epoch  164rogress: 1/1 training accuracy: 98.89 testing accuracy: 96.02 \n",
      "epoch  165rogress: 1/1 training accuracy: 98.91 testing accuracy: 96.03 \n",
      "epoch  166rogress: 1/1 training accuracy: 98.93 testing accuracy: 96.04 \n",
      "epoch  167rogress: 1/1 training accuracy: 98.94 testing accuracy: 96.04 \n",
      "epoch  168rogress: 1/1 training accuracy: 98.95 testing accuracy: 96.04 \n",
      "epoch  169rogress: 1/1 training accuracy: 98.96 testing accuracy: 96.04 \n",
      "epoch  170rogress: 1/1 training accuracy: 98.97 testing accuracy: 96.05 \n",
      "epoch  171rogress: 1/1 training accuracy: 98.98 testing accuracy: 96.03 \n",
      "epoch  172rogress: 1/1 training accuracy: 98.99 testing accuracy: 96.04 \n",
      "epoch  173rogress: 1/1 training accuracy: 99.00 testing accuracy: 96.05 \n",
      "epoch  174rogress: 1/1 training accuracy: 99.01 testing accuracy: 96.03 \n",
      "epoch  175rogress: 1/1 training accuracy: 99.02 testing accuracy: 96.04 \n",
      "epoch  176rogress: 1/1 training accuracy: 99.03 testing accuracy: 96.02 \n",
      "epoch  177rogress: 1/1 training accuracy: 99.04 testing accuracy: 96.03 \n",
      "epoch  178rogress: 1/1 training accuracy: 99.04 testing accuracy: 96.02 \n",
      "epoch  179rogress: 1/1 training accuracy: 99.06 testing accuracy: 96.01 \n",
      "epoch  180rogress: 1/1 training accuracy: 99.08 testing accuracy: 96.01 \n",
      "epoch  181rogress: 1/1 training accuracy: 99.08 testing accuracy: 96.01 \n",
      "epoch  182rogress: 1/1 training accuracy: 99.08 testing accuracy: 96.03 \n",
      "epoch  183rogress: 1/1 training accuracy: 99.09 testing accuracy: 96.03 \n",
      "epoch  184rogress: 1/1 training accuracy: 99.10 testing accuracy: 96.03 \n",
      "epoch  185rogress: 1/1 training accuracy: 99.11 testing accuracy: 96.04 \n",
      "epoch  186rogress: 1/1 training accuracy: 99.11 testing accuracy: 96.06 \n",
      "epoch  187rogress: 1/1 training accuracy: 99.11 testing accuracy: 96.06 \n",
      "epoch  188rogress: 1/1 training accuracy: 99.12 testing accuracy: 96.06 \n",
      "epoch  189rogress: 1/1 training accuracy: 99.13 testing accuracy: 96.05 \n",
      "epoch  190rogress: 1/1 training accuracy: 99.15 testing accuracy: 96.06 \n",
      "epoch  191rogress: 1/1 training accuracy: 99.17 testing accuracy: 96.05 \n",
      "epoch  192rogress: 1/1 training accuracy: 99.17 testing accuracy: 96.04 \n",
      "epoch  193rogress: 1/1 training accuracy: 99.18 testing accuracy: 96.05 \n",
      "epoch  194rogress: 1/1 training accuracy: 99.19 testing accuracy: 96.05 \n",
      "epoch  195rogress: 1/1 training accuracy: 99.21 testing accuracy: 96.05 \n",
      "epoch  196rogress: 1/1 training accuracy: 99.22 testing accuracy: 96.06 \n",
      "epoch  197rogress: 1/1 training accuracy: 99.23 testing accuracy: 96.07 \n",
      "epoch  198rogress: 1/1 training accuracy: 99.25 testing accuracy: 96.07 \n",
      "epoch  199rogress: 1/1 training accuracy: 99.25 testing accuracy: 96.07 \n",
      "epoch  200rogress: 1/1 training accuracy: 99.26 testing accuracy: 96.09 \n",
      "epoch  201rogress: 1/1 training accuracy: 99.26 testing accuracy: 96.09 \n",
      "epoch  202rogress: 1/1 training accuracy: 99.27 testing accuracy: 96.10 \n",
      "epoch  203rogress: 1/1 training accuracy: 99.27 testing accuracy: 96.14 \n",
      "epoch  204rogress: 1/1 training accuracy: 99.28 testing accuracy: 96.16 \n",
      "epoch  205rogress: 1/1 training accuracy: 99.29 testing accuracy: 96.18 \n",
      "epoch  206rogress: 1/1 training accuracy: 99.30 testing accuracy: 96.17 \n",
      "epoch  207rogress: 1/1 training accuracy: 99.30 testing accuracy: 96.17 \n",
      "epoch  208rogress: 1/1 training accuracy: 99.31 testing accuracy: 96.17 \n",
      "epoch  209rogress: 1/1 training accuracy: 99.32 testing accuracy: 96.18 \n",
      "epoch  210rogress: 1/1 training accuracy: 99.33 testing accuracy: 96.20 \n",
      "epoch  211rogress: 1/1 training accuracy: 99.33 testing accuracy: 96.21 \n",
      "epoch  212rogress: 1/1 training accuracy: 99.33 testing accuracy: 96.22 \n",
      "epoch  213rogress: 1/1 training accuracy: 99.34 testing accuracy: 96.22 \n",
      "epoch  214rogress: 1/1 training accuracy: 99.34 testing accuracy: 96.22 \n",
      "epoch  215rogress: 1/1 training accuracy: 99.34 testing accuracy: 96.20 \n",
      "epoch  216rogress: 1/1 training accuracy: 99.35 testing accuracy: 96.21 \n",
      "epoch  217rogress: 1/1 training accuracy: 99.36 testing accuracy: 96.21 \n",
      "epoch  218rogress: 1/1 training accuracy: 99.37 testing accuracy: 96.21 \n",
      "epoch  219rogress: 1/1 training accuracy: 99.38 testing accuracy: 96.23 \n",
      "epoch  220rogress: 1/1 training accuracy: 99.39 testing accuracy: 96.23 \n",
      "epoch  221rogress: 1/1 training accuracy: 99.40 testing accuracy: 96.23 \n",
      "epoch  222rogress: 1/1 training accuracy: 99.41 testing accuracy: 96.24 \n",
      "epoch  223rogress: 1/1 training accuracy: 99.42 testing accuracy: 96.24 \n",
      "epoch  224rogress: 1/1 training accuracy: 99.42 testing accuracy: 96.23 \n"
     ]
    },
    {
     "name": "stdout",
     "output_type": "stream",
     "text": [
      "epoch  225rogress: 1/1 training accuracy: 99.43 testing accuracy: 96.25 \n",
      "epoch  226rogress: 1/1 training accuracy: 99.43 testing accuracy: 96.23 \n",
      "epoch  227rogress: 1/1 training accuracy: 99.44 testing accuracy: 96.23 \n",
      "epoch  228rogress: 1/1 training accuracy: 99.45 testing accuracy: 96.23 \n",
      "epoch  229rogress: 1/1 training accuracy: 99.45 testing accuracy: 96.26 \n",
      "epoch  230rogress: 1/1 training accuracy: 99.46 testing accuracy: 96.24 \n",
      "epoch  231rogress: 1/1 training accuracy: 99.47 testing accuracy: 96.25 \n",
      "epoch  232rogress: 1/1 training accuracy: 99.48 testing accuracy: 96.25 \n",
      "epoch  233rogress: 1/1 training accuracy: 99.49 testing accuracy: 96.25 \n",
      "epoch  234rogress: 1/1 training accuracy: 99.50 testing accuracy: 96.25 \n",
      "epoch  235rogress: 1/1 training accuracy: 99.50 testing accuracy: 96.25 \n",
      "epoch  236rogress: 1/1 training accuracy: 99.51 testing accuracy: 96.24 \n",
      "epoch  237rogress: 1/1 training accuracy: 99.52 testing accuracy: 96.24 \n",
      "epoch  238rogress: 1/1 training accuracy: 99.53 testing accuracy: 96.24 \n",
      "epoch  239rogress: 1/1 training accuracy: 99.53 testing accuracy: 96.24 \n",
      "epoch  240rogress: 1/1 training accuracy: 99.53 testing accuracy: 96.24 \n",
      "epoch  241rogress: 1/1 training accuracy: 99.54 testing accuracy: 96.25 \n",
      "epoch  242rogress: 1/1 training accuracy: 99.54 testing accuracy: 96.26 \n",
      "epoch  243rogress: 1/1 training accuracy: 99.55 testing accuracy: 96.26 \n",
      "epoch  244rogress: 1/1 training accuracy: 99.55 testing accuracy: 96.26 \n",
      "epoch  245rogress: 1/1 training accuracy: 99.56 testing accuracy: 96.26 \n",
      "epoch  246rogress: 1/1 training accuracy: 99.56 testing accuracy: 96.26 \n",
      "epoch  247rogress: 1/1 training accuracy: 99.56 testing accuracy: 96.25 \n",
      "epoch  248rogress: 1/1 training accuracy: 99.57 testing accuracy: 96.25 \n",
      "epoch  249rogress: 1/1 training accuracy: 99.57 testing accuracy: 96.25 \n",
      "epoch  250rogress: 1/1 training accuracy: 99.58 testing accuracy: 96.27 \n",
      "epoch  251rogress: 1/1 training accuracy: 99.59 testing accuracy: 96.26 \n",
      "epoch  252rogress: 1/1 training accuracy: 99.59 testing accuracy: 96.26 \n",
      "epoch  253rogress: 1/1 training accuracy: 99.60 testing accuracy: 96.26 \n",
      "epoch  254rogress: 1/1 training accuracy: 99.60 testing accuracy: 96.26 \n",
      "epoch  255rogress: 1/1 training accuracy: 99.61 testing accuracy: 96.29 \n",
      "epoch  256rogress: 1/1 training accuracy: 99.61 testing accuracy: 96.27 \n",
      "epoch  257rogress: 1/1 training accuracy: 99.61 testing accuracy: 96.27 \n",
      "epoch  258rogress: 1/1 training accuracy: 99.62 testing accuracy: 96.30 \n",
      "epoch  259rogress: 1/1 training accuracy: 99.62 testing accuracy: 96.27 \n",
      "epoch  260rogress: 1/1 training accuracy: 99.63 testing accuracy: 96.30 \n",
      "epoch  261rogress: 1/1 training accuracy: 99.63 testing accuracy: 96.30 \n",
      "epoch  262rogress: 1/1 training accuracy: 99.64 testing accuracy: 96.29 \n",
      "epoch  263rogress: 1/1 training accuracy: 99.64 testing accuracy: 96.29 \n",
      "epoch  264rogress: 1/1 training accuracy: 99.65 testing accuracy: 96.28 \n",
      "epoch  265rogress: 1/1 training accuracy: 99.65 testing accuracy: 96.28 \n",
      "epoch  266rogress: 1/1 training accuracy: 99.66 testing accuracy: 96.28 \n",
      "epoch  267rogress: 1/1 training accuracy: 99.67 testing accuracy: 96.29 \n",
      "epoch  268rogress: 1/1 training accuracy: 99.67 testing accuracy: 96.29 \n",
      "epoch  269rogress: 1/1 training accuracy: 99.67 testing accuracy: 96.28 \n",
      "epoch  270rogress: 1/1 training accuracy: 99.68 testing accuracy: 96.29 \n",
      "epoch  271rogress: 1/1 training accuracy: 99.69 testing accuracy: 96.31 \n",
      "epoch  272rogress: 1/1 training accuracy: 99.69 testing accuracy: 96.30 \n",
      "epoch  273rogress: 1/1 training accuracy: 99.69 testing accuracy: 96.30 \n",
      "epoch  274rogress: 1/1 training accuracy: 99.69 testing accuracy: 96.30 \n",
      "epoch  275rogress: 1/1 training accuracy: 99.69 testing accuracy: 96.33 \n",
      "epoch  276rogress: 1/1 training accuracy: 99.70 testing accuracy: 96.32 \n",
      "epoch  277rogress: 1/1 training accuracy: 99.70 testing accuracy: 96.35 \n",
      "epoch  278rogress: 1/1 training accuracy: 99.72 testing accuracy: 96.35 \n",
      "epoch  279rogress: 1/1 training accuracy: 99.72 testing accuracy: 96.35 \n",
      "epoch  280rogress: 1/1 training accuracy: 99.72 testing accuracy: 96.36 \n",
      "epoch  281rogress: 1/1 training accuracy: 99.72 testing accuracy: 96.33 \n",
      "epoch  282rogress: 1/1 training accuracy: 99.72 testing accuracy: 96.35 \n",
      "epoch  283rogress: 1/1 training accuracy: 99.73 testing accuracy: 96.34 \n",
      "epoch  284rogress: 1/1 training accuracy: 99.73 testing accuracy: 96.34 \n",
      "epoch  285rogress: 1/1 training accuracy: 99.74 testing accuracy: 96.34 \n",
      "epoch  286rogress: 1/1 training accuracy: 99.74 testing accuracy: 96.34 \n",
      "epoch  287rogress: 1/1 training accuracy: 99.74 testing accuracy: 96.35 \n",
      "epoch  288rogress: 1/1 training accuracy: 99.75 testing accuracy: 96.35 \n",
      "epoch  289rogress: 1/1 training accuracy: 99.75 testing accuracy: 96.36 \n",
      "epoch  290rogress: 1/1 training accuracy: 99.76 testing accuracy: 96.36 \n",
      "epoch  291rogress: 1/1 training accuracy: 99.76 testing accuracy: 96.37 \n",
      "epoch  292rogress: 1/1 training accuracy: 99.76 testing accuracy: 96.36 \n",
      "epoch  293rogress: 1/1 training accuracy: 99.77 testing accuracy: 96.36 \n",
      "epoch  294rogress: 1/1 training accuracy: 99.77 testing accuracy: 96.37 \n",
      "epoch  295rogress: 1/1 training accuracy: 99.78 testing accuracy: 96.39 \n",
      "epoch  296rogress: 1/1 training accuracy: 99.78 testing accuracy: 96.39 \n",
      "epoch  297rogress: 1/1 training accuracy: 99.79 testing accuracy: 96.38 \n",
      "epoch  298rogress: 1/1 training accuracy: 99.79 testing accuracy: 96.38 \n",
      "epoch  299rogress: 1/1 training accuracy: 99.79 testing accuracy: 96.38 \n",
      "training progress: 1/1 training accuracy: 99.80 testing accuracy: 96.39 \r"
     ]
    }
   ],
   "source": [
    "for t in range(300):#trainig for 300 epochs\n",
    "    print('epoch ',t)\n",
    "    nn.performance(nn.forwardprop(inp),target,test_inp,test_label)\n",
    "    for i in range(600):#trainig on minibatches of size 100\n",
    "        nn.train(inputs=inp[:,i*100:(i*100)+100],targets=target[:,i*100:(i*100)+100],test_inputs=test_inp,test_labels=test_label,iters=1,learning_rate=0.0001)\n",
    "#nn.forwardprop(inp)"
   ]
  },
  {
   "cell_type": "markdown",
   "metadata": {},
   "source": [
    "### Unit Testing"
   ]
  },
  {
   "cell_type": "code",
   "execution_count": 22,
   "metadata": {},
   "outputs": [
    {
     "name": "stderr",
     "output_type": "stream",
     "text": [
      "....\n",
      "----------------------------------------------------------------------\n",
      "Ran 4 tests in 0.004s\n",
      "\n",
      "OK\n"
     ]
    }
   ],
   "source": [
    "import unittest\n",
    "\n",
    "class ModelTestCase(unittest.TestCase):\n",
    "    \"\"\"Tests for Model class.\"\"\"\n",
    "    nn=model(10)\n",
    "    def test_forwardprop(self,nn=model(10)):\n",
    "        \"\"\"test forward prop\"\"\"\n",
    "        nn.add(10,'SoftMax')\n",
    "        self.assertTrue((nn.forwardprop(np.zeros((10,1)))==0.1*np.ones((10,1))).all())\n",
    "        #self.assertEqual(nn.forwardprop(np.zeros((10,1))),0.1*np.ones((10,1)))\n",
    "    def test_activation_SoftMax(self,nn=model(10)):\n",
    "        \"\"\"test ReLu and SoftMax\"\"\"\n",
    "        \n",
    "        self.assertTrue((nn.apply_activation(np.zeros((10,1)),'SoftMax')==0.1*np.ones((10,1))).all())\n",
    "    def test_activation_ReLu(self,nn=model(10)):\n",
    "        \"\"\"test ReLu and ReLu\"\"\"\n",
    "       \n",
    "        self.assertTrue((nn.apply_activation(np.array([[1,-1],[2,-4]]),'ReLu')==np.array([[1,0],[2,0]])).all())\n",
    "    def test_add(self,nn=model(10)):\n",
    "        nn.add(10,'SoftMax')\n",
    "        c=nn.layers\n",
    "        \n",
    "        self.assertTrue(nn.activations[-1]=='SoftMax'and nn.weights[c].shape[0]==10 and nn.bias[c].shape[0]==10)\n",
    "if __name__ == '__main__':\n",
    "    unittest.main(argv=['first-arg-is-ignored'], exit=False)"
   ]
  },
  {
   "cell_type": "code",
   "execution_count": null,
   "metadata": {
    "collapsed": true
   },
   "outputs": [],
   "source": []
  }
 ],
 "metadata": {
  "kernelspec": {
   "display_name": "Python 3",
   "language": "python",
   "name": "python3"
  },
  "language_info": {
   "codemirror_mode": {
    "name": "ipython",
    "version": 3
   },
   "file_extension": ".py",
   "mimetype": "text/x-python",
   "name": "python",
   "nbconvert_exporter": "python",
   "pygments_lexer": "ipython3",
   "version": "3.5.4"
  }
 },
 "nbformat": 4,
 "nbformat_minor": 2
}
